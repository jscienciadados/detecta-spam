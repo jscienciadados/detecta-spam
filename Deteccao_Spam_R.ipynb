{
  "nbformat": 4,
  "nbformat_minor": 0,
  "metadata": {
    "colab": {
      "name": "Deteccao-Spam-R.ipynb",
      "provenance": [],
      "authorship_tag": "ABX9TyPVNL7ediS8oimcCmCkNwV+",
      "include_colab_link": true
    },
    "kernelspec": {
      "name": "ir",
      "display_name": "R"
    },
    "language_info": {
      "name": "R"
    }
  },
  "cells": [
    {
      "cell_type": "markdown",
      "metadata": {
        "id": "view-in-github",
        "colab_type": "text"
      },
      "source": [
        "<a href=\"https://colab.research.google.com/github/jscienciadados/detecta-spam/blob/main/Deteccao_Spam_R.ipynb\" target=\"_parent\"><img src=\"https://colab.research.google.com/assets/colab-badge.svg\" alt=\"Open In Colab\"/></a>"
      ]
    },
    {
      "cell_type": "markdown",
      "metadata": {
        "id": "hEOzOnfUjn4C"
      },
      "source": [
        "## Detecção de Spams Usando R"
      ]
    },
    {
      "cell_type": "markdown",
      "metadata": {
        "id": "YkaQKrD1lwk0"
      },
      "source": [
        "## Instalação do Pacotes"
      ]
    },
    {
      "cell_type": "code",
      "metadata": {
        "colab": {
          "base_uri": "https://localhost:8080/"
        },
        "id": "dWuC9sxHjgxK",
        "outputId": "345d5b75-322f-4bbb-8072-e799dc950621"
      },
      "source": [
        "# Pacotes\n",
        "install.packages(\"slam\", dependencies = T)\n",
        "install.packages(\"tm\", dependencies = T)\n",
        "install.packages(\"SnowballC\", dependencies = T)\n",
        "install.packages(\"wordcloud\", dependencies = T)\n",
        "install.packages(\"gmodels\", dependencies = T)\n",
        "install.packages(\"e1071\",dependencies = T)"
      ],
      "execution_count": 2,
      "outputs": [
        {
          "output_type": "stream",
          "text": [
            "Installing package into ‘/usr/local/lib/R/site-library’\n",
            "(as ‘lib’ is unspecified)\n",
            "\n",
            "Installing package into ‘/usr/local/lib/R/site-library’\n",
            "(as ‘lib’ is unspecified)\n",
            "\n",
            "Warning message:\n",
            "“dependencies ‘Rcampdf’, ‘Rgraphviz’, ‘tm.lexicon.GeneralInquirer’ are not available”\n",
            "also installing the dependencies ‘qpdf’, ‘NLP’, ‘antiword’, ‘filehash’, ‘pdftools’, ‘Rpoppler’, ‘SnowballC’\n",
            "\n",
            "\n",
            "Warning message in install.packages(\"tm\", dependencies = T):\n",
            "“installation of package ‘Rpoppler’ had non-zero exit status”\n",
            "Warning message in install.packages(\"tm\", dependencies = T):\n",
            "“installation of package ‘pdftools’ had non-zero exit status”\n",
            "Installing package into ‘/usr/local/lib/R/site-library’\n",
            "(as ‘lib’ is unspecified)\n",
            "\n",
            "Installing package into ‘/usr/local/lib/R/site-library’\n",
            "(as ‘lib’ is unspecified)\n",
            "\n",
            "Installing package into ‘/usr/local/lib/R/site-library’\n",
            "(as ‘lib’ is unspecified)\n",
            "\n",
            "also installing the dependencies ‘bitops’, ‘caTools’, ‘minqa’, ‘nloptr’, ‘RcppEigen’, ‘gdata’, ‘gplots’, ‘gtools’, ‘lme4’\n",
            "\n",
            "\n",
            "Installing package into ‘/usr/local/lib/R/site-library’\n",
            "(as ‘lib’ is unspecified)\n",
            "\n",
            "also installing the dependencies ‘proxy’, ‘mlbench’, ‘randomForest’, ‘SparseM’, ‘xtable’\n",
            "\n",
            "\n"
          ],
          "name": "stderr"
        }
      ]
    },
    {
      "cell_type": "code",
      "metadata": {
        "colab": {
          "base_uri": "https://localhost:8080/"
        },
        "id": "W9pXXOSAkKjY",
        "outputId": "fc3761b0-d088-40c4-c4a9-11a01f52418f"
      },
      "source": [
        "library(tm)\n",
        "library(SnowballC)\n",
        "library(wordcloud)\n",
        "library(e1071)\n",
        "library(gmodels)\n"
      ],
      "execution_count": 3,
      "outputs": [
        {
          "output_type": "stream",
          "text": [
            "Loading required package: NLP\n",
            "\n",
            "Loading required package: RColorBrewer\n",
            "\n"
          ],
          "name": "stderr"
        }
      ]
    },
    {
      "cell_type": "markdown",
      "metadata": {
        "id": "IPpH6tc7mNfq"
      },
      "source": [
        "## Carregando os Dados"
      ]
    },
    {
      "cell_type": "code",
      "metadata": {
        "id": "4sh4Y4Yyl1iv"
      },
      "source": [
        "dados <- read.csv(\"sms_spam.csv\", stringsAsFactors = FALSE)"
      ],
      "execution_count": 4,
      "outputs": []
    },
    {
      "cell_type": "markdown",
      "metadata": {
        "id": "Hdc2bCjymk8r"
      },
      "source": [
        "Examinando a estrutura dos dados"
      ]
    },
    {
      "cell_type": "code",
      "metadata": {
        "colab": {
          "base_uri": "https://localhost:8080/"
        },
        "id": "nahG8AzEmijD",
        "outputId": "4d90f080-bc01-4cd1-d41a-cba0d70ff3ec"
      },
      "source": [
        "str(dados)"
      ],
      "execution_count": 5,
      "outputs": [
        {
          "output_type": "stream",
          "text": [
            "'data.frame':\t5559 obs. of  2 variables:\n",
            " $ type: chr  \"ham\" \"ham\" \"ham\" \"spam\" ...\n",
            " $ text: chr  \"Hope you are having a good week. Just checking in\" \"K..give back my thanks.\" \"Am also doing in cbe only. But have to pay.\" \"complimentary 4 STAR Ibiza Holiday or £10,000 cash needs your URGENT collection. 09066364349 NOW from Landline \"| __truncated__ ...\n"
          ],
          "name": "stdout"
        }
      ]
    },
    {
      "cell_type": "markdown",
      "metadata": {
        "id": "A7zwWmchm49x"
      },
      "source": [
        "Convertendo para o tipo factor o conjunto de dados"
      ]
    },
    {
      "cell_type": "code",
      "metadata": {
        "colab": {
          "base_uri": "https://localhost:8080/",
          "height": 119
        },
        "id": "IGfD6k4JmrD6",
        "outputId": "45e1871b-da9d-4002-f84d-93e2de2e9e90"
      },
      "source": [
        "dados$type <- factor(dados$type)\n",
        "print(str(dados$type))\n",
        "print(\"-----------------------------\")\n",
        "table(dados$type)"
      ],
      "execution_count": 7,
      "outputs": [
        {
          "output_type": "stream",
          "text": [
            " Factor w/ 2 levels \"ham\",\"spam\": 1 1 1 2 2 1 1 1 2 1 ...\n",
            "NULL\n",
            "[1] \"-----------------------------\"\n"
          ],
          "name": "stdout"
        },
        {
          "output_type": "display_data",
          "data": {
            "text/plain": [
              "\n",
              " ham spam \n",
              "4812  747 "
            ]
          },
          "metadata": {
            "tags": []
          }
        }
      ]
    },
    {
      "cell_type": "markdown",
      "metadata": {
        "id": "3UWIxUjTndai"
      },
      "source": [
        "Construindo um corpus -> conjunto de documentos"
      ]
    },
    {
      "cell_type": "code",
      "metadata": {
        "id": "oexsqJg4nZA3"
      },
      "source": [
        "dados_corpus <- VCorpus(VectorSource(dados$text))"
      ],
      "execution_count": 8,
      "outputs": []
    },
    {
      "cell_type": "markdown",
      "metadata": {
        "id": "9e-DZPi2nyaB"
      },
      "source": [
        "Examinando a estrutura dos dados"
      ]
    },
    {
      "cell_type": "code",
      "metadata": {
        "colab": {
          "base_uri": "https://localhost:8080/"
        },
        "id": "6xBbmo3vntVw",
        "outputId": "47d60f1b-d743-45e7-9d3d-7e5fc938ea6f"
      },
      "source": [
        "print(dados_corpus)"
      ],
      "execution_count": 9,
      "outputs": [
        {
          "output_type": "stream",
          "text": [
            "<<VCorpus>>\n",
            "Metadata:  corpus specific: 0, document level (indexed): 0\n",
            "Content:  documents: 5559\n"
          ],
          "name": "stdout"
        }
      ]
    },
    {
      "cell_type": "code",
      "metadata": {
        "colab": {
          "base_uri": "https://localhost:8080/"
        },
        "id": "0wO0w2N8n5ZS",
        "outputId": "17809c57-493e-4d63-9d04-299acd4e9d78"
      },
      "source": [
        "inspect(dados_corpus[1:2])"
      ],
      "execution_count": 10,
      "outputs": [
        {
          "output_type": "stream",
          "text": [
            "<<VCorpus>>\n",
            "Metadata:  corpus specific: 0, document level (indexed): 0\n",
            "Content:  documents: 2\n",
            "\n",
            "[[1]]\n",
            "<<PlainTextDocument>>\n",
            "Metadata:  7\n",
            "Content:  chars: 49\n",
            "\n",
            "[[2]]\n",
            "<<PlainTextDocument>>\n",
            "Metadata:  7\n",
            "Content:  chars: 23\n",
            "\n"
          ],
          "name": "stdout"
        }
      ]
    },
    {
      "cell_type": "markdown",
      "metadata": {
        "id": "vwjrBxc5oDd3"
      },
      "source": [
        "## Limpeza do corpus com tm_map()\n",
        "help da função -> ?tm_map"
      ]
    },
    {
      "cell_type": "code",
      "metadata": {
        "id": "VAmbBsPLn_fR"
      },
      "source": [
        "dados_corpus_clean <- tm_map(dados_corpus, content_transformer(tolower))"
      ],
      "execution_count": 12,
      "outputs": []
    },
    {
      "cell_type": "markdown",
      "metadata": {
        "id": "yKBp9a1oopSZ"
      },
      "source": [
        "Diferenças entre o corpus inicial e o corpus após a limpeza -> com a limpeza transformamos tudo para minusculo."
      ]
    },
    {
      "cell_type": "code",
      "metadata": {
        "colab": {
          "base_uri": "https://localhost:8080/",
          "height": 68
        },
        "id": "kDBm6r6UohUj",
        "outputId": "a4754ae1-efb2-409c-b581-fa98a7cc8798"
      },
      "source": [
        "as.character(dados_corpus[[1]])\n",
        "print(\"---------------------------------------\")\n",
        "as.character(dados_corpus_clean[[1]])"
      ],
      "execution_count": 13,
      "outputs": [
        {
          "output_type": "display_data",
          "data": {
            "text/plain": [
              "[1] \"Hope you are having a good week. Just checking in\""
            ],
            "text/latex": "'Hope you are having a good week. Just checking in'",
            "text/markdown": "'Hope you are having a good week. Just checking in'",
            "text/html": [
              "'Hope you are having a good week. Just checking in'"
            ]
          },
          "metadata": {
            "tags": []
          }
        },
        {
          "output_type": "stream",
          "text": [
            "[1] \"---------------------------------------\"\n"
          ],
          "name": "stdout"
        },
        {
          "output_type": "display_data",
          "data": {
            "text/plain": [
              "[1] \"hope you are having a good week. just checking in\""
            ],
            "text/latex": "'hope you are having a good week. just checking in'",
            "text/markdown": "'hope you are having a good week. just checking in'",
            "text/html": [
              "'hope you are having a good week. just checking in'"
            ]
          },
          "metadata": {
            "tags": []
          }
        }
      ]
    },
    {
      "cell_type": "markdown",
      "metadata": {
        "id": "d5x5erpzpKyl"
      },
      "source": [
        "Outras Etapa de Limpeza"
      ]
    },
    {
      "cell_type": "code",
      "metadata": {
        "id": "S6au-mFco-hl"
      },
      "source": [
        "dados_corpus_clean <- tm_map(dados_corpus_clean, removeNumbers) # remove números\n",
        "dados_corpus_clean <- tm_map(dados_corpus_clean, removeWords, stopwords()) # remove stop words\n",
        "dados_corpus_clean <- tm_map(dados_corpus_clean, removePunctuation) # remove pontuação"
      ],
      "execution_count": 14,
      "outputs": []
    },
    {
      "cell_type": "markdown",
      "metadata": {
        "id": "V9fJ9HJbp6ma"
      },
      "source": [
        "## Função para substituir ao invés de remover pontuação."
      ]
    },
    {
      "cell_type": "code",
      "metadata": {
        "colab": {
          "base_uri": "https://localhost:8080/",
          "height": 51
        },
        "id": "hftoxIhqp0x1",
        "outputId": "b2d7260f-265f-4bf2-e5c8-d8953148d12e"
      },
      "source": [
        "removePunctuation(\"hello...world\")\n",
        "replacePunctuation <- function(x) { gsub(\"[[:punct:]]+\", \" \", x) }\n",
        "replacePunctuation(\"hello...world\")"
      ],
      "execution_count": 15,
      "outputs": [
        {
          "output_type": "display_data",
          "data": {
            "text/plain": [
              "[1] \"helloworld\""
            ],
            "text/latex": "'helloworld'",
            "text/markdown": "'helloworld'",
            "text/html": [
              "'helloworld'"
            ]
          },
          "metadata": {
            "tags": []
          }
        },
        {
          "output_type": "display_data",
          "data": {
            "text/plain": [
              "[1] \"hello world\""
            ],
            "text/latex": "'hello world'",
            "text/markdown": "'hello world'",
            "text/html": [
              "'hello world'"
            ]
          },
          "metadata": {
            "tags": []
          }
        }
      ]
    },
    {
      "cell_type": "markdown",
      "metadata": {
        "id": "_5Ih8GmYqX2q"
      },
      "source": [
        "## Word Stemming\n",
        "?worStem"
      ]
    },
    {
      "cell_type": "code",
      "metadata": {
        "colab": {
          "base_uri": "https://localhost:8080/",
          "height": 34
        },
        "id": "nk3h7f6KqUbY",
        "outputId": "b0a6eee1-f5bd-4e44-a9d3-737d97a4ba4a"
      },
      "source": [
        "wordStem(c(\"learn\", \"learned\", \"learning\", \"learns\"))"
      ],
      "execution_count": 16,
      "outputs": [
        {
          "output_type": "display_data",
          "data": {
            "text/plain": [
              "[1] \"learn\" \"learn\" \"learn\" \"learn\""
            ],
            "text/latex": "\\begin{enumerate*}\n\\item 'learn'\n\\item 'learn'\n\\item 'learn'\n\\item 'learn'\n\\end{enumerate*}\n",
            "text/markdown": "1. 'learn'\n2. 'learn'\n3. 'learn'\n4. 'learn'\n\n\n",
            "text/html": [
              "<style>\n",
              ".list-inline {list-style: none; margin:0; padding: 0}\n",
              ".list-inline>li {display: inline-block}\n",
              ".list-inline>li:not(:last-child)::after {content: \"\\00b7\"; padding: 0 .5ex}\n",
              "</style>\n",
              "<ol class=list-inline><li>'learn'</li><li>'learn'</li><li>'learn'</li><li>'learn'</li></ol>\n"
            ]
          },
          "metadata": {
            "tags": []
          }
        }
      ]
    },
    {
      "cell_type": "markdown",
      "metadata": {
        "id": "-8sUoh0-q1ao"
      },
      "source": [
        "## Aplicando Stem"
      ]
    },
    {
      "cell_type": "code",
      "metadata": {
        "id": "39D4kgDHqyc0"
      },
      "source": [
        "dados_corpus_clean <- tm_map(dados_corpus_clean, stemDocument)"
      ],
      "execution_count": 17,
      "outputs": []
    },
    {
      "cell_type": "markdown",
      "metadata": {
        "id": "Vi_10KJarD5v"
      },
      "source": [
        "Eliminando espeço em branco"
      ]
    },
    {
      "cell_type": "code",
      "metadata": {
        "id": "sYJOuMporCSL"
      },
      "source": [
        "dados_corpus_clean <- tm_map(dados_corpus_clean, stripWhitespace)"
      ],
      "execution_count": 18,
      "outputs": []
    },
    {
      "cell_type": "markdown",
      "metadata": {
        "id": "pKGkwKAHrVoq"
      },
      "source": [
        "Examinando a versão final do corpus"
      ]
    },
    {
      "cell_type": "code",
      "metadata": {
        "colab": {
          "base_uri": "https://localhost:8080/",
          "height": 294
        },
        "id": "BbL5_WmJrS0y",
        "outputId": "0639c4a9-6e96-408a-fb92-84443a0af94e"
      },
      "source": [
        "lapply(dados_corpus[1:3], as.character)\n",
        "print(\"-----------------------------------------------\")\n",
        "lapply(dados_corpus_clean[1:3], as.character)"
      ],
      "execution_count": 19,
      "outputs": [
        {
          "output_type": "display_data",
          "data": {
            "text/plain": [
              "$`1`\n",
              "[1] \"Hope you are having a good week. Just checking in\"\n",
              "\n",
              "$`2`\n",
              "[1] \"K..give back my thanks.\"\n",
              "\n",
              "$`3`\n",
              "[1] \"Am also doing in cbe only. But have to pay.\"\n"
            ],
            "text/latex": "\\begin{description}\n\\item[\\$`1`] 'Hope you are having a good week. Just checking in'\n\\item[\\$`2`] 'K..give back my thanks.'\n\\item[\\$`3`] 'Am also doing in cbe only. But have to pay.'\n\\end{description}\n",
            "text/markdown": "$`1`\n:   'Hope you are having a good week. Just checking in'\n$`2`\n:   'K..give back my thanks.'\n$`3`\n:   'Am also doing in cbe only. But have to pay.'\n\n\n",
            "text/html": [
              "<dl>\n",
              "\t<dt>$`1`</dt>\n",
              "\t\t<dd>'Hope you are having a good week. Just checking in'</dd>\n",
              "\t<dt>$`2`</dt>\n",
              "\t\t<dd>'K..give back my thanks.'</dd>\n",
              "\t<dt>$`3`</dt>\n",
              "\t\t<dd>'Am also doing in cbe only. But have to pay.'</dd>\n",
              "</dl>\n"
            ]
          },
          "metadata": {
            "tags": []
          }
        },
        {
          "output_type": "stream",
          "text": [
            "[1] \"-----------------------------------------------\"\n"
          ],
          "name": "stdout"
        },
        {
          "output_type": "display_data",
          "data": {
            "text/plain": [
              "$`1`\n",
              "[1] \"hope good week just check\"\n",
              "\n",
              "$`2`\n",
              "[1] \"kgive back thank\"\n",
              "\n",
              "$`3`\n",
              "[1] \"also cbe pay\"\n"
            ],
            "text/latex": "\\begin{description}\n\\item[\\$`1`] 'hope good week just check'\n\\item[\\$`2`] 'kgive back thank'\n\\item[\\$`3`] 'also cbe pay'\n\\end{description}\n",
            "text/markdown": "$`1`\n:   'hope good week just check'\n$`2`\n:   'kgive back thank'\n$`3`\n:   'also cbe pay'\n\n\n",
            "text/html": [
              "<dl>\n",
              "\t<dt>$`1`</dt>\n",
              "\t\t<dd>'hope good week just check'</dd>\n",
              "\t<dt>$`2`</dt>\n",
              "\t\t<dd>'kgive back thank'</dd>\n",
              "\t<dt>$`3`</dt>\n",
              "\t\t<dd>'also cbe pay'</dd>\n",
              "</dl>\n"
            ]
          },
          "metadata": {
            "tags": []
          }
        }
      ]
    },
    {
      "cell_type": "markdown",
      "metadata": {
        "id": "WUamxP6qryiv"
      },
      "source": [
        "## Criando uma Matriz Esparsa -> document-term\n",
        "?DocumentTermMatrix"
      ]
    },
    {
      "cell_type": "code",
      "metadata": {
        "id": "0i4FWRhrrum5"
      },
      "source": [
        "dados_dtm <- DocumentTermMatrix(dados_corpus_clean)"
      ],
      "execution_count": 20,
      "outputs": []
    },
    {
      "cell_type": "markdown",
      "metadata": {
        "id": "O0XX02AYsixV"
      },
      "source": [
        "# Matriz Esparsa  - usando stop words customizadas a partir da função"
      ]
    },
    {
      "cell_type": "code",
      "metadata": {
        "id": "u4K8ZSMLsJRC"
      },
      "source": [
        "dados_dtm3 <- DocumentTermMatrix(dados_corpus, control = list(tolower = TRUE,\n",
        "                                                              removeNumbers = TRUE,\n",
        "                                                              stopwords = function(x) { removeWords(x, stopwords()) },\n",
        "                                                              removePunctuation = TRUE,\n",
        "                                                              stemming = TRUE))\n"
      ],
      "execution_count": 21,
      "outputs": []
    },
    {
      "cell_type": "code",
      "metadata": {
        "colab": {
          "base_uri": "https://localhost:8080/",
          "height": 102
        },
        "id": "lGGdcm8_syD1",
        "outputId": "b233325b-dc34-48ab-afd8-68ee7a927f11"
      },
      "source": [
        "dados_dtm"
      ],
      "execution_count": 22,
      "outputs": [
        {
          "output_type": "display_data",
          "data": {
            "text/plain": [
              "<<DocumentTermMatrix (documents: 5559, terms: 6559)>>\n",
              "Non-/sparse entries: 42147/36419334\n",
              "Sparsity           : 100%\n",
              "Maximal term length: 40\n",
              "Weighting          : term frequency (tf)"
            ]
          },
          "metadata": {
            "tags": []
          }
        }
      ]
    },
    {
      "cell_type": "code",
      "metadata": {
        "colab": {
          "base_uri": "https://localhost:8080/",
          "height": 102
        },
        "id": "4PmmAZXns2xl",
        "outputId": "baef471a-7974-44c1-8c34-63fe7f338bd7"
      },
      "source": [
        "dados_dtm3"
      ],
      "execution_count": 23,
      "outputs": [
        {
          "output_type": "display_data",
          "data": {
            "text/plain": [
              "<<DocumentTermMatrix (documents: 5559, terms: 6559)>>\n",
              "Non-/sparse entries: 42147/36419334\n",
              "Sparsity           : 100%\n",
              "Maximal term length: 40\n",
              "Weighting          : term frequency (tf)"
            ]
          },
          "metadata": {
            "tags": []
          }
        }
      ]
    },
    {
      "cell_type": "markdown",
      "metadata": {
        "id": "r8vncxZWs74B"
      },
      "source": [
        "## Criando dados de treino e de teste"
      ]
    },
    {
      "cell_type": "code",
      "metadata": {
        "id": "cwsyZ43qs5Dx"
      },
      "source": [
        "dados_dtm_train <- dados_dtm[1:4169, ]\n",
        "dados_dtm_test  <- dados_dtm[4170:5559, ]"
      ],
      "execution_count": 24,
      "outputs": []
    },
    {
      "cell_type": "markdown",
      "metadata": {
        "id": "rWEP17pGtfTD"
      },
      "source": [
        "Labels -> variavel targe"
      ]
    },
    {
      "cell_type": "code",
      "metadata": {
        "id": "f3M8G222tUjG"
      },
      "source": [
        "dados_train_labels <- dados[1:4169, ]$type\n",
        "dados_test_labels  <- dados[4170:5559, ]$type"
      ],
      "execution_count": 25,
      "outputs": []
    },
    {
      "cell_type": "markdown",
      "metadata": {
        "id": "8ODGygRftsHK"
      },
      "source": [
        "Verificando se a proporção de Spam é Similar"
      ]
    },
    {
      "cell_type": "code",
      "metadata": {
        "colab": {
          "base_uri": "https://localhost:8080/",
          "height": 119
        },
        "id": "CQXJQmtWtp1e",
        "outputId": "f24735cf-bf58-4eab-cd8f-1cf6d31d997f"
      },
      "source": [
        "prop.table(table(dados_train_labels))\n",
        "prop.table(table(dados_test_labels))\n"
      ],
      "execution_count": 26,
      "outputs": [
        {
          "output_type": "display_data",
          "data": {
            "text/plain": [
              "dados_train_labels\n",
              "      ham      spam \n",
              "0.8647158 0.1352842 "
            ]
          },
          "metadata": {
            "tags": []
          }
        },
        {
          "output_type": "display_data",
          "data": {
            "text/plain": [
              "dados_test_labels\n",
              "      ham      spam \n",
              "0.8683453 0.1316547 "
            ]
          },
          "metadata": {
            "tags": []
          }
        }
      ]
    },
    {
      "cell_type": "markdown",
      "metadata": {
        "id": "tVjvEz9Vt5Te"
      },
      "source": [
        "## Word Cloud"
      ]
    },
    {
      "cell_type": "code",
      "metadata": {
        "colab": {
          "base_uri": "https://localhost:8080/",
          "height": 437
        },
        "id": "3w1_7xwit1cq",
        "outputId": "c3ecec35-93d6-42ae-a7fa-ca29c052ed26"
      },
      "source": [
        "wordcloud(dados_corpus_clean, min.freq = 50, random.order = FALSE)"
      ],
      "execution_count": 27,
      "outputs": [
        {
          "output_type": "display_data",
          "data": {
            "image/png": "[encoded data removed]",
            "text/plain": [
              "plot without title"
            ]
          },
          "metadata": {
            "tags": [],
            "image/png": {
              "width": 420,
              "height": 420
            }
          }
        }
      ]
    },
    {
      "cell_type": "markdown",
      "metadata": {
        "id": "kQGC-yAkuNDG"
      },
      "source": [
        "## Frequencia dos Dados"
      ]
    },
    {
      "cell_type": "code",
      "metadata": {
        "colab": {
          "base_uri": "https://localhost:8080/",
          "height": 102
        },
        "id": "AWhExLTnuJ8H",
        "outputId": "d2815463-83b2-4f49-8ac4-99799b20e199"
      },
      "source": [
        "sms_dtm_freq_train <- removeSparseTerms(dados_dtm_train, 0.999)\n",
        "sms_dtm_freq_train"
      ],
      "execution_count": 28,
      "outputs": [
        {
          "output_type": "display_data",
          "data": {
            "text/plain": [
              "<<DocumentTermMatrix (documents: 4169, terms: 1104)>>\n",
              "Non-/sparse entries: 24827/4577749\n",
              "Sparsity           : 99%\n",
              "Maximal term length: 19\n",
              "Weighting          : term frequency (tf)"
            ]
          },
          "metadata": {
            "tags": []
          }
        }
      ]
    },
    {
      "cell_type": "markdown",
      "metadata": {
        "id": "wGwzGyZ_umEA"
      },
      "source": [
        "## Indicador de Features para palavras frequentes"
      ]
    },
    {
      "cell_type": "code",
      "metadata": {
        "colab": {
          "base_uri": "https://localhost:8080/",
          "height": 306
        },
        "id": "yG5yD8VjuhG_",
        "outputId": "4bbd14f0-03ad-49a8-f3b4-116b4c53af92"
      },
      "source": [
        "findFreqTerms(dados_dtm_train, 5)"
      ],
      "execution_count": 29,
      "outputs": [
        {
          "output_type": "display_data",
          "data": {
            "text/plain": [
              "   [1] \"£wk\"                 \"€˜m\"                 \"€˜s\"                \n",
              "   [4] \"abiola\"              \"abl\"                 \"abt\"                \n",
              "   [7] \"accept\"              \"access\"              \"account\"            \n",
              "  [10] \"across\"              \"act\"                 \"activ\"              \n",
              "  [13] \"actual\"              \"add\"                 \"address\"            \n",
              "  [16] \"admir\"               \"adult\"               \"advanc\"             \n",
              "  [19] \"aft\"                 \"afternoon\"           \"age\"                \n",
              "  [22] \"ago\"                 \"aha\"                 \"ahead\"              \n",
              "  [25] \"aight\"               \"aint\"                \"air\"                \n",
              "  [28] \"aiyo\"                \"alex\"                \"almost\"             \n",
              "  [31] \"alon\"                \"alreadi\"             \"alright\"            \n",
              "  [34] \"also\"                \"alway\"               \"angri\"              \n",
              "  [37] \"announc\"             \"anoth\"               \"answer\"             \n",
              "  [40] \"anymor\"              \"anyon\"               \"anyth\"              \n",
              "  [43] \"anytim\"              \"anyway\"              \"apart\"              \n",
              "  [46] \"app\"                 \"appli\"               \"appreci\"            \n",
              "  [49] \"arcad\"               \"ard\"                 \"area\"               \n",
              "  [52] \"argu\"                \"argument\"            \"armand\"             \n",
              "  [55] \"around\"              \"arrang\"              \"arriv\"              \n",
              "  [58] \"asap\"                \"ask\"                 \"askd\"               \n",
              "  [61] \"attempt\"             \"auction\"             \"avail\"              \n",
              "  [64] \"ave\"                 \"avoid\"               \"await\"              \n",
              "  [67] \"awak\"                \"award\"               \"away\"               \n",
              "  [70] \"awesom\"              \"babe\"                \"babi\"               \n",
              "  [73] \"back\"                \"bad\"                 \"bag\"                \n",
              "  [76] \"bank\"                \"bare\"                \"basic\"              \n",
              "  [79] \"bath\"                \"batteri\"             \"bcoz\"               \n",
              "  [82] \"bday\"                \"beauti\"              \"becom\"              \n",
              "  [85] \"bed\"                 \"bedroom\"             \"beer\"               \n",
              "  [88] \"begin\"               \"believ\"              \"best\"               \n",
              "  [91] \"better\"              \"bid\"                 \"big\"                \n",
              "  [94] \"bill\"                \"bird\"                \"birthday\"           \n",
              "  [97] \"bit\"                 \"black\"               \"blank\"              \n",
              " [100] \"bless\"               \"blue\"                \"bluetooth\"          \n",
              " [103] \"bold\"                \"bonus\"               \"boo\"                \n",
              " [106] \"book\"                \"boost\"               \"bore\"               \n",
              " [109] \"boss\"                \"bother\"              \"bout\"               \n",
              " [112] \"box\"                 \"boy\"                 \"boytoy\"             \n",
              " [115] \"break\"               \"breath\"              \"bring\"              \n",
              " [118] \"brother\"             \"bslvyl\"              \"btnationalr\"        \n",
              " [121] \"buck\"                \"bus\"                 \"busi\"               \n",
              " [124] \"buy\"                 \"cabin\"               \"call\"               \n",
              " [127] \"caller\"              \"callertun\"           \"camcord\"            \n",
              " [130] \"came\"                \"camera\"              \"campus\"             \n",
              " [133] \"can\"                 \"cancel\"              \"cancer\"             \n",
              " [136] \"cant\"                \"car\"                 \"card\"               \n",
              " [139] \"care\"                \"carlo\"               \"case\"               \n",
              " [142] \"cash\"                \"cashbal\"             \"catch\"              \n",
              " [145] \"caus\"                \"celebr\"              \"cell\"               \n",
              " [148] \"centr\"               \"chanc\"               \"chang\"              \n",
              " [151] \"charg\"               \"chat\"                \"cheap\"              \n",
              " [154] \"cheaper\"             \"check\"               \"cheer\"              \n",
              " [157] \"chennai\"             \"chikku\"              \"childish\"           \n",
              " [160] \"children\"            \"choic\"               \"choos\"              \n",
              " [163] \"christma\"            \"claim\"               \"class\"              \n",
              " [166] \"clean\"               \"clear\"               \"close\"              \n",
              " [169] \"club\"                \"code\"                \"coffe\"              \n",
              " [172] \"cold\"                \"colleagu\"            \"collect\"            \n",
              " [175] \"colleg\"              \"colour\"              \"come\"               \n",
              " [178] \"comin\"               \"comp\"                \"compani\"            \n",
              " [181] \"competit\"            \"complet\"             \"complimentari\"      \n",
              " [184] \"comput\"              \"condit\"              \"confirm\"            \n",
              " [187] \"congrat\"             \"congratul\"           \"connect\"            \n",
              " [190] \"contact\"             \"content\"             \"contract\"           \n",
              " [193] \"cook\"                \"cool\"                \"copi\"               \n",
              " [196] \"correct\"             \"cos\"                 \"cost\"               \n",
              " [199] \"cost£pm\"             \"costa\"               \"coupl\"              \n",
              " [202] \"cours\"               \"cover\"               \"coz\"                \n",
              " [205] \"crave\"               \"crazi\"               \"creat\"              \n",
              " [208] \"credit\"              \"cri\"                 \"cross\"              \n",
              " [211] \"cuddl\"               \"cum\"                 \"cup\"                \n",
              " [214] \"current\"             \"custcar\"             \"custom\"             \n",
              " [217] \"cut\"                 \"cute\"                \"cuz\"                \n",
              " [220] \"dad\"                 \"daddi\"               \"darl\"               \n",
              " [223] \"darlin\"              \"darren\"              \"dat\"                \n",
              " [226] \"date\"                \"day\"                 \"dead\"               \n",
              " [229] \"deal\"                \"dear\"                \"decid\"              \n",
              " [232] \"decim\"               \"decis\"               \"deep\"               \n",
              " [235] \"definit\"             \"del\"                 \"deliv\"              \n",
              " [238] \"deliveri\"            \"den\"                 \"depend\"             \n",
              " [241] \"detail\"              \"didnt\"               \"die\"                \n",
              " [244] \"diet\"                \"differ\"              \"difficult\"          \n",
              " [247] \"digit\"               \"din\"                 \"dinner\"             \n",
              " [250] \"direct\"              \"dis\"                 \"discount\"           \n",
              " [253] \"discuss\"             \"disturb\"             \"dnt\"                \n",
              " [256] \"doc\"                 \"doctor\"              \"doesnt\"             \n",
              " [259] \"dog\"                 \"doin\"                \"don\"                \n",
              " [262] \"done\"                \"dont\"                \"door\"               \n",
              " [265] \"doubl\"               \"download\"            \"draw\"               \n",
              " [268] \"dream\"               \"drink\"               \"drive\"              \n",
              " [271] \"drop\"                \"drug\"                \"dude\"               \n",
              " [274] \"due\"                 \"dun\"                 \"dunno\"              \n",
              " [277] \"dvd\"                 \"earli\"               \"earlier\"            \n",
              " [280] \"earth\"               \"easi\"                \"eat\"                \n",
              " [283] \"eatin\"               \"egg\"                 \"either\"             \n",
              " [286] \"els\"                 \"email\"               \"embarass\"           \n",
              " [289] \"end\"                 \"energi\"              \"england\"            \n",
              " [292] \"enjoy\"               \"enough\"              \"enter\"              \n",
              " [295] \"entitl\"              \"entri\"               \"envelop\"            \n",
              " [298] \"etc\"                 \"euro\"                \"eve\"                \n",
              " [301] \"even\"                \"ever\"                \"everi\"              \n",
              " [304] \"everybodi\"           \"everyon\"             \"everyth\"            \n",
              " [307] \"exact\"               \"exam\"                \"excel\"              \n",
              " [310] \"excit\"               \"excus\"               \"expect\"             \n",
              " [313] \"experi\"              \"expir\"               \"extra\"              \n",
              " [316] \"eye\"                 \"face\"                \"facebook\"           \n",
              " [319] \"fact\"                \"fall\"                \"famili\"             \n",
              " [322] \"fanci\"               \"fantasi\"             \"fantast\"            \n",
              " [325] \"far\"                 \"fast\"                \"fat\"                \n",
              " [328] \"father\"              \"fault\"               \"feb\"                \n",
              " [331] \"feel\"                \"felt\"                \"fetch\"              \n",
              " [334] \"fight\"               \"figur\"               \"file\"               \n",
              " [337] \"fill\"                \"film\"                \"final\"              \n",
              " [340] \"find\"                \"fine\"                \"finger\"             \n",
              " [343] \"finish\"              \"first\"               \"fix\"                \n",
              " [346] \"flag\"                \"flat\"                \"flight\"             \n",
              " [349] \"flower\"              \"follow\"              \"fone\"               \n",
              " [352] \"food\"                \"forev\"               \"forget\"             \n",
              " [355] \"forgot\"              \"forward\"             \"found\"              \n",
              " [358] \"freak\"               \"free\"                \"freemsg\"            \n",
              " [361] \"freephon\"            \"fren\"                \"fri\"                \n",
              " [364] \"friday\"              \"friend\"              \"friendship\"         \n",
              " [367] \"frm\"                 \"frnd\"                \"frnds\"              \n",
              " [370] \"full\"                \"fullonsmscom\"        \"fun\"                \n",
              " [373] \"funni\"               \"futur\"               \"gal\"                \n",
              " [376] \"game\"                \"gap\"                 \"gas\"                \n",
              " [379] \"gave\"                \"gay\"                 \"gentl\"              \n",
              " [382] \"get\"                 \"gettin\"              \"gift\"               \n",
              " [385] \"girl\"                \"girlfrnd\"            \"give\"               \n",
              " [388] \"glad\"                \"god\"                 \"goe\"                \n",
              " [391] \"goin\"                \"gone\"                \"gonna\"              \n",
              " [394] \"good\"                \"goodmorn\"            \"goodnight\"          \n",
              " [397] \"got\"                 \"goto\"                \"gotta\"              \n",
              " [400] \"great\"               \"grin\"                \"guarante\"           \n",
              " [403] \"gud\"                 \"guess\"               \"guy\"                \n",
              " [406] \"gym\"                 \"haf\"                 \"haha\"               \n",
              " [409] \"hai\"                 \"hair\"                \"half\"               \n",
              " [412] \"hand\"                \"handset\"             \"hang\"               \n",
              " [415] \"happen\"              \"happi\"               \"hard\"               \n",
              " [418] \"hate\"                \"hav\"                 \"havent\"             \n",
              " [421] \"head\"                \"hear\"                \"heard\"              \n",
              " [424] \"heart\"               \"heavi\"               \"hee\"                \n",
              " [427] \"hell\"                \"hello\"               \"help\"               \n",
              " [430] \"hey\"                 \"hgsuiteland\"         \"hit\"                \n",
              " [433] \"hiya\"                \"hmm\"                 \"hmmm\"               \n",
              " [436] \"hmv\"                 \"hol\"                 \"hold\"               \n",
              " [439] \"holder\"              \"holiday\"             \"home\"               \n",
              " [442] \"hook\"                \"hop\"                 \"hope\"               \n",
              " [445] \"horni\"               \"hospit\"              \"hot\"                \n",
              " [448] \"hotel\"               \"hour\"                \"hous\"               \n",
              " [451] \"how\"                 \"howev\"               \"howz\"               \n",
              " [454] \"hrs\"                 \"httpwwwurawinnercom\" \"hug\"                \n",
              " [457] \"huh\"                 \"hungri\"              \"hurri\"              \n",
              " [460] \"hurt\"                \"ice\"                 \"idea\"               \n",
              " [463] \"identifi\"            \"ignor\"               \"ill\"                \n",
              " [466] \"immedi\"              \"import\"              \"inc\"                \n",
              " [469] \"includ\"              \"india\"               \"info\"               \n",
              " [472] \"inform\"              \"insid\"               \"instead\"            \n",
              " [475] \"interest\"            \"invit\"               \"ipod\"               \n",
              " [478] \"irrit\"               \"ish\"                 \"island\"             \n",
              " [481] \"issu\"                \"ive\"                 \"izzit\"              \n",
              " [484] \"januari\"             \"jay\"                 \"job\"                \n",
              " [487] \"john\"                \"join\"                \"joke\"               \n",
              " [490] \"joy\"                 \"jst\"                 \"jus\"                \n",
              " [493] \"just\"                \"juz\"                 \"kate\"               \n",
              " [496] \"keep\"                \"kept\"                \"kick\"               \n",
              " [499] \"kid\"                 \"kill\"                \"kind\"               \n",
              " [502] \"kinda\"               \"king\"                \"kiss\"               \n",
              " [505] \"knew\"                \"know\"                \"knw\"                \n",
              " [508] \"ladi\"                \"land\"                \"landlin\"            \n",
              " [511] \"laptop\"              \"lar\"                 \"last\"               \n",
              " [514] \"late\"                \"later\"               \"latest\"             \n",
              " [517] \"laugh\"               \"lazi\"                \"ldn\"                \n",
              " [520] \"lead\"                \"learn\"               \"least\"              \n",
              " [523] \"leav\"                \"lect\"                \"left\"               \n",
              " [526] \"leh\"                 \"lei\"                 \"less\"               \n",
              " [529] \"lesson\"              \"let\"                 \"letter\"             \n",
              " [532] \"liao\"                \"librari\"             \"lie\"                \n",
              " [535] \"life\"                \"lift\"                \"light\"              \n",
              " [538] \"like\"                \"line\"                \"link\"               \n",
              " [541] \"list\"                \"listen\"              \"littl\"              \n",
              " [544] \"live\"                \"lmao\"                \"load\"               \n",
              " [547] \"loan\"                \"local\"               \"locat\"              \n",
              " [550] \"log\"                 \"lol\"                 \"london\"             \n",
              " [553] \"long\"                \"longer\"              \"look\"               \n",
              " [556] \"lookin\"              \"lor\"                 \"lose\"               \n",
              " [559] \"lost\"                \"lot\"                 \"lovabl\"             \n",
              " [562] \"love\"                \"lover\"               \"loyalti\"            \n",
              " [565] \"ltd\"                 \"luck\"                \"lucki\"              \n",
              " [568] \"lunch\"               \"luv\"                 \"mad\"                \n",
              " [571] \"made\"                \"mah\"                 \"mail\"               \n",
              " [574] \"make\"                \"malaria\"             \"man\"                \n",
              " [577] \"mani\"                \"march\"               \"mark\"               \n",
              " [580] \"marri\"               \"match\"               \"mate\"               \n",
              " [583] \"matter\"              \"maxim\"               \"maxmin\"             \n",
              " [586] \"may\"                 \"mayb\"                \"meal\"               \n",
              " [589] \"mean\"                \"meant\"               \"med\"                \n",
              " [592] \"medic\"               \"meet\"                \"meetin\"             \n",
              " [595] \"meh\"                 \"member\"              \"men\"                \n",
              " [598] \"merri\"               \"messag\"              \"met\"                \n",
              " [601] \"mid\"                 \"midnight\"            \"might\"              \n",
              " [604] \"min\"                 \"mind\"                \"mine\"               \n",
              " [607] \"minut\"               \"miracl\"              \"miss\"               \n",
              " [610] \"mistak\"              \"moan\"                \"mob\"                \n",
              " [613] \"mobil\"               \"mobileupd\"           \"mode\"               \n",
              " [616] \"mom\"                 \"moment\"              \"mon\"                \n",
              " [619] \"monday\"              \"money\"               \"month\"              \n",
              " [622] \"morn\"                \"mother\"              \"motorola\"           \n",
              " [625] \"move\"                \"movi\"                \"mrng\"               \n",
              " [628] \"mrt\"                 \"mrw\"                 \"msg\"                \n",
              " [631] \"msgs\"                \"mths\"                \"much\"               \n",
              " [634] \"mum\"                 \"murder\"              \"music\"              \n",
              " [637] \"must\"                \"muz\"                 \"nah\"                \n",
              " [640] \"nake\"                \"name\"                \"nation\"             \n",
              " [643] \"natur\"               \"naughti\"             \"near\"               \n",
              " [646] \"need\"                \"net\"                 \"network\"            \n",
              " [649] \"neva\"                \"never\"               \"new\"                \n",
              " [652] \"news\"                \"next\"                \"nice\"               \n",
              " [655] \"nigeria\"             \"night\"               \"nite\"               \n",
              " [658] \"nobodi\"              \"noe\"                 \"nokia\"              \n",
              " [661] \"noon\"                \"nope\"                \"normal\"             \n",
              " [664] \"normpton\"            \"noth\"                \"notic\"              \n",
              " [667] \"now\"                 \"num\"                 \"number\"             \n",
              " [670] \"nyt\"                 \"obvious\"             \"offer\"              \n",
              " [673] \"offic\"               \"offici\"              \"okay\"               \n",
              " [676] \"oki\"                 \"old\"                 \"omg\"                \n",
              " [679] \"one\"                 \"onlin\"               \"onto\"               \n",
              " [682] \"oop\"                 \"open\"                \"oper\"               \n",
              " [685] \"opinion\"             \"opt\"                 \"optout\"             \n",
              " [688] \"orang\"               \"orchard\"             \"order\"              \n",
              " [691] \"oredi\"               \"oso\"                 \"other\"              \n",
              " [694] \"otherwis\"            \"outsid\"              \"pack\"               \n",
              " [697] \"page\"                \"paid\"                \"pain\"               \n",
              " [700] \"paper\"               \"parent\"              \"park\"               \n",
              " [703] \"part\"                \"parti\"               \"partner\"            \n",
              " [706] \"pass\"                \"passion\"             \"password\"           \n",
              " [709] \"past\"                \"pay\"                 \"peopl\"              \n",
              " [712] \"per\"                 \"person\"              \"pete\"               \n",
              " [715] \"phone\"               \"photo\"               \"pic\"                \n",
              " [718] \"pick\"                \"pictur\"              \"pin\"                \n",
              " [721] \"piss\"                \"pix\"                 \"pizza\"              \n",
              " [724] \"place\"               \"plan\"                \"play\"               \n",
              " [727] \"player\"              \"pleas\"               \"pleasur\"            \n",
              " [730] \"plenti\"              \"pls\"                 \"plus\"               \n",
              " [733] \"plz\"                 \"pmin\"                \"pmsg\"               \n",
              " [736] \"pobox\"               \"point\"               \"poli\"               \n",
              " [739] \"polic\"               \"poor\"                \"pop\"                \n",
              " [742] \"possess\"             \"possibl\"             \"post\"               \n",
              " [745] \"pound\"               \"power\"               \"ppm\"                \n",
              " [748] \"pray\"                \"present\"             \"press\"              \n",
              " [751] \"pretti\"              \"previous\"            \"price\"              \n",
              " [754] \"princess\"            \"privat\"              \"prize\"              \n",
              " [757] \"prob\"                \"probabl\"             \"problem\"            \n",
              " [760] \"project\"             \"promis\"              \"pub\"                \n",
              " [763] \"put\"                 \"qualiti\"             \"question\"           \n",
              " [766] \"quick\"               \"quit\"                \"quiz\"               \n",
              " [769] \"quot\"                \"rain\"                \"random\"             \n",
              " [772] \"rang\"                \"rate\"                \"rather\"             \n",
              " [775] \"rcvd\"                \"reach\"               \"read\"               \n",
              " [778] \"readi\"               \"real\"                \"reali\"              \n",
              " [781] \"realli\"              \"reason\"              \"receipt\"            \n",
              " [784] \"receiv\"              \"recent\"              \"record\"             \n",
              " [787] \"refer\"               \"regard\"              \"regist\"             \n",
              " [790] \"relat\"               \"relax\"               \"remain\"             \n",
              " [793] \"rememb\"              \"remind\"              \"remov\"              \n",
              " [796] \"rent\"                \"rental\"              \"repli\"              \n",
              " [799] \"repres\"              \"request\"             \"respond\"            \n",
              " [802] \"respons\"             \"rest\"                \"result\"             \n",
              " [805] \"return\"              \"reveal\"              \"review\"             \n",
              " [808] \"reward\"              \"right\"               \"ring\"               \n",
              " [811] \"rington\"             \"rite\"                \"road\"               \n",
              " [814] \"rock\"                \"role\"                \"room\"               \n",
              " [817] \"roommat\"             \"rose\"                \"round\"              \n",
              " [820] \"rowwjhl\"             \"rpli\"                \"rreveal\"            \n",
              " [823] \"run\"                 \"rush\"                \"sad\"                \n",
              " [826] \"sae\"                 \"safe\"                \"said\"               \n",
              " [829] \"sale\"                \"sat\"                 \"saturday\"           \n",
              " [832] \"savamob\"             \"save\"                \"saw\"                \n",
              " [835] \"say\"                 \"sch\"                 \"school\"             \n",
              " [838] \"scream\"              \"sea\"                 \"search\"             \n",
              " [841] \"sec\"                 \"second\"              \"secret\"             \n",
              " [844] \"see\"                 \"seem\"                \"seen\"               \n",
              " [847] \"select\"              \"self\"                \"sell\"               \n",
              " [850] \"semest\"              \"send\"                \"sens\"               \n",
              " [853] \"sent\"                \"serious\"             \"servic\"             \n",
              " [856] \"set\"                 \"settl\"               \"sex\"                \n",
              " [859] \"sexi\"                \"shall\"               \"share\"              \n",
              " [862] \"shd\"                 \"ship\"                \"shirt\"              \n",
              " [865] \"shop\"                \"short\"               \"show\"               \n",
              " [868] \"shower\"              \"sick\"                \"side\"               \n",
              " [871] \"sigh\"                \"sight\"               \"sign\"               \n",
              " [874] \"silent\"              \"simpl\"               \"sinc\"               \n",
              " [877] \"singl\"               \"sipix\"               \"sir\"                \n",
              " [880] \"sis\"                 \"sister\"              \"sit\"                \n",
              " [883] \"situat\"              \"skxh\"                \"skype\"              \n",
              " [886] \"slave\"               \"sleep\"               \"slept\"              \n",
              " [889] \"slow\"                \"slowli\"              \"small\"              \n",
              " [892] \"smile\"               \"smoke\"               \"sms\"                \n",
              " [895] \"smth\"                \"snow\"                \"sofa\"               \n",
              " [898] \"sol\"                 \"somebodi\"            \"someon\"             \n",
              " [901] \"someth\"              \"sometim\"             \"somewher\"           \n",
              " [904] \"song\"                \"soni\"                \"sonyericsson\"       \n",
              " [907] \"soon\"                \"sorri\"               \"sort\"               \n",
              " [910] \"sound\"               \"south\"               \"space\"              \n",
              " [913] \"speak\"               \"special\"             \"specialcal\"         \n",
              " [916] \"spend\"               \"spent\"               \"spoke\"              \n",
              " [919] \"spree\"               \"stand\"               \"start\"              \n",
              " [922] \"statement\"           \"station\"             \"stay\"               \n",
              " [925] \"std\"                 \"step\"                \"still\"              \n",
              " [928] \"stockport\"           \"stone\"               \"stop\"               \n",
              " [931] \"store\"               \"stori\"               \"street\"             \n",
              " [934] \"student\"             \"studi\"               \"stuff\"              \n",
              " [937] \"stupid\"              \"style\"               \"sub\"                \n",
              " [940] \"subscrib\"            \"success\"             \"suck\"               \n",
              " [943] \"suit\"                \"summer\"              \"sun\"                \n",
              " [946] \"sunday\"              \"sunshin\"             \"sup\"                \n",
              " [949] \"support\"             \"suppos\"              \"sure\"               \n",
              " [952] \"surf\"                \"surpris\"             \"sweet\"              \n",
              " [955] \"swing\"               \"system\"              \"take\"               \n",
              " [958] \"talk\"                \"tampa\"               \"tariff\"             \n",
              " [961] \"tcs\"                 \"tea\"                 \"teach\"              \n",
              " [964] \"tear\"                \"teas\"                \"tel\"                \n",
              " [967] \"tell\"                \"ten\"                 \"tenerif\"            \n",
              " [970] \"term\"                \"test\"                \"text\"               \n",
              " [973] \"thank\"               \"thanx\"               \"that\"               \n",
              " [976] \"thing\"               \"think\"               \"thinkin\"            \n",
              " [979] \"thk\"                 \"tho\"                 \"though\"             \n",
              " [982] \"thought\"             \"throw\"               \"thru\"               \n",
              " [985] \"tht\"                 \"thur\"                \"tick\"               \n",
              " [988] \"ticket\"              \"til\"                 \"till\"               \n",
              " [991] \"time\"                \"tire\"                \"titl\"               \n",
              " [994] \"tmr\"                 \"toclaim\"             \"today\"              \n",
              " [997] \"togeth\"              \"told\"                \"tomo\"               \n",
              "[1000] \"tomorrow\"            \"tone\"                \"tonight\"            \n",
              "[1003] \"tonit\"               \"took\"                \"top\"                \n",
              "[1006] \"torch\"               \"tot\"                 \"total\"              \n",
              "[1009] \"touch\"               \"tough\"               \"tour\"               \n",
              "[1012] \"toward\"              \"town\"                \"track\"              \n",
              "[1015] \"train\"               \"transact\"            \"travel\"             \n",
              "[1018] \"treat\"               \"tri\"                 \"trip\"               \n",
              "[1021] \"troubl\"              \"true\"                \"trust\"              \n",
              "[1024] \"truth\"               \"tscs\"                \"ttyl\"               \n",
              "[1027] \"tuesday\"             \"turn\"                \"twice\"              \n",
              "[1030] \"two\"                 \"txt\"                 \"txting\"             \n",
              "[1033] \"txts\"                \"type\"                \"ufind\"              \n",
              "[1036] \"ugh\"                 \"ull\"                 \"uncl\"               \n",
              "[1039] \"understand\"          \"unless\"              \"unlimit\"            \n",
              "[1042] \"unredeem\"            \"unsub\"               \"unsubscrib\"         \n",
              "[1045] \"updat\"               \"ure\"                 \"urgent\"             \n",
              "[1048] \"urself\"              \"use\"                 \"user\"               \n",
              "[1051] \"usf\"                 \"usual\"               \"uve\"                \n",
              "[1054] \"valentin\"            \"valid\"               \"valu\"               \n",
              "[1057] \"via\"                 \"video\"               \"vikki\"              \n",
              "[1060] \"visit\"               \"vodafon\"             \"voic\"               \n",
              "[1063] \"vomit\"               \"voucher\"             \"wait\"               \n",
              "[1066] \"wake\"                \"walk\"                \"wan\"                \n",
              "[1069] \"wana\"                \"wanna\"               \"want\"               \n",
              "[1072] \"wap\"                 \"warm\"                \"wast\"               \n",
              "[1075] \"wat\"                 \"watch\"               \"water\"              \n",
              "[1078] \"way\"                 \"weak\"                \"wear\"               \n",
              "[1081] \"weather\"             \"wed\"                 \"wednesday\"          \n",
              "[1084] \"weed\"                \"week\"                \"weekend\"            \n",
              "[1087] \"welcom\"              \"well\"                \"wen\"                \n",
              "[1090] \"went\"                \"what\"                \"whatev\"             \n",
              "[1093] \"whenev\"              \"whole\"               \"wid\"                \n",
              "[1096] \"wif\"                 \"wife\"                \"wil\"                \n",
              "[1099] \"will\"                \"win\"                 \"wine\"               \n",
              "[1102] \"winner\"              \"wish\"                \"wit\"                \n",
              "[1105] \"within\"              \"without\"             \"wiv\"                \n",
              "[1108] \"wkli\"                \"wks\"                 \"wnt\"                \n",
              "[1111] \"woke\"                \"won\"                 \"wonder\"             \n",
              "[1114] \"wont\"                \"word\"                \"work\"               \n",
              "[1117] \"workin\"              \"world\"               \"worri\"              \n",
              "[1120] \"wors\"                \"worth\"               \"wot\"                \n",
              "[1123] \"wow\"                 \"write\"               \"wrong\"              \n",
              "[1126] \"wwq\"                 \"wwwgetzedcouk\"       \"xmas\"               \n",
              "[1129] \"xxx\"                 \"yahoo\"               \"yar\"                \n",
              "[1132] \"yeah\"                \"year\"                \"yep\"                \n",
              "[1135] \"yes\"                 \"yesterday\"           \"yet\"                \n",
              "[1138] \"yoga\"                \"yup\"                "
            ],
            "text/latex": "\\begin{enumerate*}\n\\item '£wk'\n\\item '€˜m'\n\\item '€˜s'\n\\item 'abiola'\n\\item 'abl'\n\\item 'abt'\n\\item 'accept'\n\\item 'access'\n\\item 'account'\n\\item 'across'\n\\item 'act'\n\\item 'activ'\n\\item 'actual'\n\\item 'add'\n\\item 'address'\n\\item 'admir'\n\\item 'adult'\n\\item 'advanc'\n\\item 'aft'\n\\item 'afternoon'\n\\item 'age'\n\\item 'ago'\n\\item 'aha'\n\\item 'ahead'\n\\item 'aight'\n\\item 'aint'\n\\item 'air'\n\\item 'aiyo'\n\\item 'alex'\n\\item 'almost'\n\\item 'alon'\n\\item 'alreadi'\n\\item 'alright'\n\\item 'also'\n\\item 'alway'\n\\item 'angri'\n\\item 'announc'\n\\item 'anoth'\n\\item 'answer'\n\\item 'anymor'\n\\item 'anyon'\n\\item 'anyth'\n\\item 'anytim'\n\\item 'anyway'\n\\item 'apart'\n\\item 'app'\n\\item 'appli'\n\\item 'appreci'\n\\item 'arcad'\n\\item 'ard'\n\\item 'area'\n\\item 'argu'\n\\item 'argument'\n\\item 'armand'\n\\item 'around'\n\\item 'arrang'\n\\item 'arriv'\n\\item 'asap'\n\\item 'ask'\n\\item 'askd'\n\\item 'attempt'\n\\item 'auction'\n\\item 'avail'\n\\item 'ave'\n\\item 'avoid'\n\\item 'await'\n\\item 'awak'\n\\item 'award'\n\\item 'away'\n\\item 'awesom'\n\\item 'babe'\n\\item 'babi'\n\\item 'back'\n\\item 'bad'\n\\item 'bag'\n\\item 'bank'\n\\item 'bare'\n\\item 'basic'\n\\item 'bath'\n\\item 'batteri'\n\\item 'bcoz'\n\\item 'bday'\n\\item 'beauti'\n\\item 'becom'\n\\item 'bed'\n\\item 'bedroom'\n\\item 'beer'\n\\item 'begin'\n\\item 'believ'\n\\item 'best'\n\\item 'better'\n\\item 'bid'\n\\item 'big'\n\\item 'bill'\n\\item 'bird'\n\\item 'birthday'\n\\item 'bit'\n\\item 'black'\n\\item 'blank'\n\\item 'bless'\n\\item 'blue'\n\\item 'bluetooth'\n\\item 'bold'\n\\item 'bonus'\n\\item 'boo'\n\\item 'book'\n\\item 'boost'\n\\item 'bore'\n\\item 'boss'\n\\item 'bother'\n\\item 'bout'\n\\item 'box'\n\\item 'boy'\n\\item 'boytoy'\n\\item 'break'\n\\item 'breath'\n\\item 'bring'\n\\item 'brother'\n\\item 'bslvyl'\n\\item 'btnationalr'\n\\item 'buck'\n\\item 'bus'\n\\item 'busi'\n\\item 'buy'\n\\item 'cabin'\n\\item 'call'\n\\item 'caller'\n\\item 'callertun'\n\\item 'camcord'\n\\item 'came'\n\\item 'camera'\n\\item 'campus'\n\\item 'can'\n\\item 'cancel'\n\\item 'cancer'\n\\item 'cant'\n\\item 'car'\n\\item 'card'\n\\item 'care'\n\\item 'carlo'\n\\item 'case'\n\\item 'cash'\n\\item 'cashbal'\n\\item 'catch'\n\\item 'caus'\n\\item 'celebr'\n\\item 'cell'\n\\item 'centr'\n\\item 'chanc'\n\\item 'chang'\n\\item 'charg'\n\\item 'chat'\n\\item 'cheap'\n\\item 'cheaper'\n\\item 'check'\n\\item 'cheer'\n\\item 'chennai'\n\\item 'chikku'\n\\item 'childish'\n\\item 'children'\n\\item 'choic'\n\\item 'choos'\n\\item 'christma'\n\\item 'claim'\n\\item 'class'\n\\item 'clean'\n\\item 'clear'\n\\item 'close'\n\\item 'club'\n\\item 'code'\n\\item 'coffe'\n\\item 'cold'\n\\item 'colleagu'\n\\item 'collect'\n\\item 'colleg'\n\\item 'colour'\n\\item 'come'\n\\item 'comin'\n\\item 'comp'\n\\item 'compani'\n\\item 'competit'\n\\item 'complet'\n\\item 'complimentari'\n\\item 'comput'\n\\item 'condit'\n\\item 'confirm'\n\\item 'congrat'\n\\item 'congratul'\n\\item 'connect'\n\\item 'contact'\n\\item 'content'\n\\item 'contract'\n\\item 'cook'\n\\item 'cool'\n\\item 'copi'\n\\item 'correct'\n\\item 'cos'\n\\item 'cost'\n\\item 'cost£pm'\n\\item 'costa'\n\\item ⋯\n\\item 'subscrib'\n\\item 'success'\n\\item 'suck'\n\\item 'suit'\n\\item 'summer'\n\\item 'sun'\n\\item 'sunday'\n\\item 'sunshin'\n\\item 'sup'\n\\item 'support'\n\\item 'suppos'\n\\item 'sure'\n\\item 'surf'\n\\item 'surpris'\n\\item 'sweet'\n\\item 'swing'\n\\item 'system'\n\\item 'take'\n\\item 'talk'\n\\item 'tampa'\n\\item 'tariff'\n\\item 'tcs'\n\\item 'tea'\n\\item 'teach'\n\\item 'tear'\n\\item 'teas'\n\\item 'tel'\n\\item 'tell'\n\\item 'ten'\n\\item 'tenerif'\n\\item 'term'\n\\item 'test'\n\\item 'text'\n\\item 'thank'\n\\item 'thanx'\n\\item 'that'\n\\item 'thing'\n\\item 'think'\n\\item 'thinkin'\n\\item 'thk'\n\\item 'tho'\n\\item 'though'\n\\item 'thought'\n\\item 'throw'\n\\item 'thru'\n\\item 'tht'\n\\item 'thur'\n\\item 'tick'\n\\item 'ticket'\n\\item 'til'\n\\item 'till'\n\\item 'time'\n\\item 'tire'\n\\item 'titl'\n\\item 'tmr'\n\\item 'toclaim'\n\\item 'today'\n\\item 'togeth'\n\\item 'told'\n\\item 'tomo'\n\\item 'tomorrow'\n\\item 'tone'\n\\item 'tonight'\n\\item 'tonit'\n\\item 'took'\n\\item 'top'\n\\item 'torch'\n\\item 'tot'\n\\item 'total'\n\\item 'touch'\n\\item 'tough'\n\\item 'tour'\n\\item 'toward'\n\\item 'town'\n\\item 'track'\n\\item 'train'\n\\item 'transact'\n\\item 'travel'\n\\item 'treat'\n\\item 'tri'\n\\item 'trip'\n\\item 'troubl'\n\\item 'true'\n\\item 'trust'\n\\item 'truth'\n\\item 'tscs'\n\\item 'ttyl'\n\\item 'tuesday'\n\\item 'turn'\n\\item 'twice'\n\\item 'two'\n\\item 'txt'\n\\item 'txting'\n\\item 'txts'\n\\item 'type'\n\\item 'ufind'\n\\item 'ugh'\n\\item 'ull'\n\\item 'uncl'\n\\item 'understand'\n\\item 'unless'\n\\item 'unlimit'\n\\item 'unredeem'\n\\item 'unsub'\n\\item 'unsubscrib'\n\\item 'updat'\n\\item 'ure'\n\\item 'urgent'\n\\item 'urself'\n\\item 'use'\n\\item 'user'\n\\item 'usf'\n\\item 'usual'\n\\item 'uve'\n\\item 'valentin'\n\\item 'valid'\n\\item 'valu'\n\\item 'via'\n\\item 'video'\n\\item 'vikki'\n\\item 'visit'\n\\item 'vodafon'\n\\item 'voic'\n\\item 'vomit'\n\\item 'voucher'\n\\item 'wait'\n\\item 'wake'\n\\item 'walk'\n\\item 'wan'\n\\item 'wana'\n\\item 'wanna'\n\\item 'want'\n\\item 'wap'\n\\item 'warm'\n\\item 'wast'\n\\item 'wat'\n\\item 'watch'\n\\item 'water'\n\\item 'way'\n\\item 'weak'\n\\item 'wear'\n\\item 'weather'\n\\item 'wed'\n\\item 'wednesday'\n\\item 'weed'\n\\item 'week'\n\\item 'weekend'\n\\item 'welcom'\n\\item 'well'\n\\item 'wen'\n\\item 'went'\n\\item 'what'\n\\item 'whatev'\n\\item 'whenev'\n\\item 'whole'\n\\item 'wid'\n\\item 'wif'\n\\item 'wife'\n\\item 'wil'\n\\item 'will'\n\\item 'win'\n\\item 'wine'\n\\item 'winner'\n\\item 'wish'\n\\item 'wit'\n\\item 'within'\n\\item 'without'\n\\item 'wiv'\n\\item 'wkli'\n\\item 'wks'\n\\item 'wnt'\n\\item 'woke'\n\\item 'won'\n\\item 'wonder'\n\\item 'wont'\n\\item 'word'\n\\item 'work'\n\\item 'workin'\n\\item 'world'\n\\item 'worri'\n\\item 'wors'\n\\item 'worth'\n\\item 'wot'\n\\item 'wow'\n\\item 'write'\n\\item 'wrong'\n\\item 'wwq'\n\\item 'wwwgetzedcouk'\n\\item 'xmas'\n\\item 'xxx'\n\\item 'yahoo'\n\\item 'yar'\n\\item 'yeah'\n\\item 'year'\n\\item 'yep'\n\\item 'yes'\n\\item 'yesterday'\n\\item 'yet'\n\\item 'yoga'\n\\item 'yup'\n\\end{enumerate*}\n",
            "text/markdown": "1. '£wk'\n2. '€˜m'\n3. '€˜s'\n4. 'abiola'\n5. 'abl'\n6. 'abt'\n7. 'accept'\n8. 'access'\n9. 'account'\n10. 'across'\n11. 'act'\n12. 'activ'\n13. 'actual'\n14. 'add'\n15. 'address'\n16. 'admir'\n17. 'adult'\n18. 'advanc'\n19. 'aft'\n20. 'afternoon'\n21. 'age'\n22. 'ago'\n23. 'aha'\n24. 'ahead'\n25. 'aight'\n26. 'aint'\n27. 'air'\n28. 'aiyo'\n29. 'alex'\n30. 'almost'\n31. 'alon'\n32. 'alreadi'\n33. 'alright'\n34. 'also'\n35. 'alway'\n36. 'angri'\n37. 'announc'\n38. 'anoth'\n39. 'answer'\n40. 'anymor'\n41. 'anyon'\n42. 'anyth'\n43. 'anytim'\n44. 'anyway'\n45. 'apart'\n46. 'app'\n47. 'appli'\n48. 'appreci'\n49. 'arcad'\n50. 'ard'\n51. 'area'\n52. 'argu'\n53. 'argument'\n54. 'armand'\n55. 'around'\n56. 'arrang'\n57. 'arriv'\n58. 'asap'\n59. 'ask'\n60. 'askd'\n61. 'attempt'\n62. 'auction'\n63. 'avail'\n64. 'ave'\n65. 'avoid'\n66. 'await'\n67. 'awak'\n68. 'award'\n69. 'away'\n70. 'awesom'\n71. 'babe'\n72. 'babi'\n73. 'back'\n74. 'bad'\n75. 'bag'\n76. 'bank'\n77. 'bare'\n78. 'basic'\n79. 'bath'\n80. 'batteri'\n81. 'bcoz'\n82. 'bday'\n83. 'beauti'\n84. 'becom'\n85. 'bed'\n86. 'bedroom'\n87. 'beer'\n88. 'begin'\n89. 'believ'\n90. 'best'\n91. 'better'\n92. 'bid'\n93. 'big'\n94. 'bill'\n95. 'bird'\n96. 'birthday'\n97. 'bit'\n98. 'black'\n99. 'blank'\n100. 'bless'\n101. 'blue'\n102. 'bluetooth'\n103. 'bold'\n104. 'bonus'\n105. 'boo'\n106. 'book'\n107. 'boost'\n108. 'bore'\n109. 'boss'\n110. 'bother'\n111. 'bout'\n112. 'box'\n113. 'boy'\n114. 'boytoy'\n115. 'break'\n116. 'breath'\n117. 'bring'\n118. 'brother'\n119. 'bslvyl'\n120. 'btnationalr'\n121. 'buck'\n122. 'bus'\n123. 'busi'\n124. 'buy'\n125. 'cabin'\n126. 'call'\n127. 'caller'\n128. 'callertun'\n129. 'camcord'\n130. 'came'\n131. 'camera'\n132. 'campus'\n133. 'can'\n134. 'cancel'\n135. 'cancer'\n136. 'cant'\n137. 'car'\n138. 'card'\n139. 'care'\n140. 'carlo'\n141. 'case'\n142. 'cash'\n143. 'cashbal'\n144. 'catch'\n145. 'caus'\n146. 'celebr'\n147. 'cell'\n148. 'centr'\n149. 'chanc'\n150. 'chang'\n151. 'charg'\n152. 'chat'\n153. 'cheap'\n154. 'cheaper'\n155. 'check'\n156. 'cheer'\n157. 'chennai'\n158. 'chikku'\n159. 'childish'\n160. 'children'\n161. 'choic'\n162. 'choos'\n163. 'christma'\n164. 'claim'\n165. 'class'\n166. 'clean'\n167. 'clear'\n168. 'close'\n169. 'club'\n170. 'code'\n171. 'coffe'\n172. 'cold'\n173. 'colleagu'\n174. 'collect'\n175. 'colleg'\n176. 'colour'\n177. 'come'\n178. 'comin'\n179. 'comp'\n180. 'compani'\n181. 'competit'\n182. 'complet'\n183. 'complimentari'\n184. 'comput'\n185. 'condit'\n186. 'confirm'\n187. 'congrat'\n188. 'congratul'\n189. 'connect'\n190. 'contact'\n191. 'content'\n192. 'contract'\n193. 'cook'\n194. 'cool'\n195. 'copi'\n196. 'correct'\n197. 'cos'\n198. 'cost'\n199. 'cost£pm'\n200. 'costa'\n201. ⋯\n202. 'subscrib'\n203. 'success'\n204. 'suck'\n205. 'suit'\n206. 'summer'\n207. 'sun'\n208. 'sunday'\n209. 'sunshin'\n210. 'sup'\n211. 'support'\n212. 'suppos'\n213. 'sure'\n214. 'surf'\n215. 'surpris'\n216. 'sweet'\n217. 'swing'\n218. 'system'\n219. 'take'\n220. 'talk'\n221. 'tampa'\n222. 'tariff'\n223. 'tcs'\n224. 'tea'\n225. 'teach'\n226. 'tear'\n227. 'teas'\n228. 'tel'\n229. 'tell'\n230. 'ten'\n231. 'tenerif'\n232. 'term'\n233. 'test'\n234. 'text'\n235. 'thank'\n236. 'thanx'\n237. 'that'\n238. 'thing'\n239. 'think'\n240. 'thinkin'\n241. 'thk'\n242. 'tho'\n243. 'though'\n244. 'thought'\n245. 'throw'\n246. 'thru'\n247. 'tht'\n248. 'thur'\n249. 'tick'\n250. 'ticket'\n251. 'til'\n252. 'till'\n253. 'time'\n254. 'tire'\n255. 'titl'\n256. 'tmr'\n257. 'toclaim'\n258. 'today'\n259. 'togeth'\n260. 'told'\n261. 'tomo'\n262. 'tomorrow'\n263. 'tone'\n264. 'tonight'\n265. 'tonit'\n266. 'took'\n267. 'top'\n268. 'torch'\n269. 'tot'\n270. 'total'\n271. 'touch'\n272. 'tough'\n273. 'tour'\n274. 'toward'\n275. 'town'\n276. 'track'\n277. 'train'\n278. 'transact'\n279. 'travel'\n280. 'treat'\n281. 'tri'\n282. 'trip'\n283. 'troubl'\n284. 'true'\n285. 'trust'\n286. 'truth'\n287. 'tscs'\n288. 'ttyl'\n289. 'tuesday'\n290. 'turn'\n291. 'twice'\n292. 'two'\n293. 'txt'\n294. 'txting'\n295. 'txts'\n296. 'type'\n297. 'ufind'\n298. 'ugh'\n299. 'ull'\n300. 'uncl'\n301. 'understand'\n302. 'unless'\n303. 'unlimit'\n304. 'unredeem'\n305. 'unsub'\n306. 'unsubscrib'\n307. 'updat'\n308. 'ure'\n309. 'urgent'\n310. 'urself'\n311. 'use'\n312. 'user'\n313. 'usf'\n314. 'usual'\n315. 'uve'\n316. 'valentin'\n317. 'valid'\n318. 'valu'\n319. 'via'\n320. 'video'\n321. 'vikki'\n322. 'visit'\n323. 'vodafon'\n324. 'voic'\n325. 'vomit'\n326. 'voucher'\n327. 'wait'\n328. 'wake'\n329. 'walk'\n330. 'wan'\n331. 'wana'\n332. 'wanna'\n333. 'want'\n334. 'wap'\n335. 'warm'\n336. 'wast'\n337. 'wat'\n338. 'watch'\n339. 'water'\n340. 'way'\n341. 'weak'\n342. 'wear'\n343. 'weather'\n344. 'wed'\n345. 'wednesday'\n346. 'weed'\n347. 'week'\n348. 'weekend'\n349. 'welcom'\n350. 'well'\n351. 'wen'\n352. 'went'\n353. 'what'\n354. 'whatev'\n355. 'whenev'\n356. 'whole'\n357. 'wid'\n358. 'wif'\n359. 'wife'\n360. 'wil'\n361. 'will'\n362. 'win'\n363. 'wine'\n364. 'winner'\n365. 'wish'\n366. 'wit'\n367. 'within'\n368. 'without'\n369. 'wiv'\n370. 'wkli'\n371. 'wks'\n372. 'wnt'\n373. 'woke'\n374. 'won'\n375. 'wonder'\n376. 'wont'\n377. 'word'\n378. 'work'\n379. 'workin'\n380. 'world'\n381. 'worri'\n382. 'wors'\n383. 'worth'\n384. 'wot'\n385. 'wow'\n386. 'write'\n387. 'wrong'\n388. 'wwq'\n389. 'wwwgetzedcouk'\n390. 'xmas'\n391. 'xxx'\n392. 'yahoo'\n393. 'yar'\n394. 'yeah'\n395. 'year'\n396. 'yep'\n397. 'yes'\n398. 'yesterday'\n399. 'yet'\n400. 'yoga'\n401. 'yup'\n\n\n",
            "text/html": [
              "<style>\n",
              ".list-inline {list-style: none; margin:0; padding: 0}\n",
              ".list-inline>li {display: inline-block}\n",
              ".list-inline>li:not(:last-child)::after {content: \"\\00b7\"; padding: 0 .5ex}\n",
              "</style>\n",
              "<ol class=list-inline><li>'£wk'</li><li>'€˜m'</li><li>'€˜s'</li><li>'abiola'</li><li>'abl'</li><li>'abt'</li><li>'accept'</li><li>'access'</li><li>'account'</li><li>'across'</li><li>'act'</li><li>'activ'</li><li>'actual'</li><li>'add'</li><li>'address'</li><li>'admir'</li><li>'adult'</li><li>'advanc'</li><li>'aft'</li><li>'afternoon'</li><li>'age'</li><li>'ago'</li><li>'aha'</li><li>'ahead'</li><li>'aight'</li><li>'aint'</li><li>'air'</li><li>'aiyo'</li><li>'alex'</li><li>'almost'</li><li>'alon'</li><li>'alreadi'</li><li>'alright'</li><li>'also'</li><li>'alway'</li><li>'angri'</li><li>'announc'</li><li>'anoth'</li><li>'answer'</li><li>'anymor'</li><li>'anyon'</li><li>'anyth'</li><li>'anytim'</li><li>'anyway'</li><li>'apart'</li><li>'app'</li><li>'appli'</li><li>'appreci'</li><li>'arcad'</li><li>'ard'</li><li>'area'</li><li>'argu'</li><li>'argument'</li><li>'armand'</li><li>'around'</li><li>'arrang'</li><li>'arriv'</li><li>'asap'</li><li>'ask'</li><li>'askd'</li><li>'attempt'</li><li>'auction'</li><li>'avail'</li><li>'ave'</li><li>'avoid'</li><li>'await'</li><li>'awak'</li><li>'award'</li><li>'away'</li><li>'awesom'</li><li>'babe'</li><li>'babi'</li><li>'back'</li><li>'bad'</li><li>'bag'</li><li>'bank'</li><li>'bare'</li><li>'basic'</li><li>'bath'</li><li>'batteri'</li><li>'bcoz'</li><li>'bday'</li><li>'beauti'</li><li>'becom'</li><li>'bed'</li><li>'bedroom'</li><li>'beer'</li><li>'begin'</li><li>'believ'</li><li>'best'</li><li>'better'</li><li>'bid'</li><li>'big'</li><li>'bill'</li><li>'bird'</li><li>'birthday'</li><li>'bit'</li><li>'black'</li><li>'blank'</li><li>'bless'</li><li>'blue'</li><li>'bluetooth'</li><li>'bold'</li><li>'bonus'</li><li>'boo'</li><li>'book'</li><li>'boost'</li><li>'bore'</li><li>'boss'</li><li>'bother'</li><li>'bout'</li><li>'box'</li><li>'boy'</li><li>'boytoy'</li><li>'break'</li><li>'breath'</li><li>'bring'</li><li>'brother'</li><li>'bslvyl'</li><li>'btnationalr'</li><li>'buck'</li><li>'bus'</li><li>'busi'</li><li>'buy'</li><li>'cabin'</li><li>'call'</li><li>'caller'</li><li>'callertun'</li><li>'camcord'</li><li>'came'</li><li>'camera'</li><li>'campus'</li><li>'can'</li><li>'cancel'</li><li>'cancer'</li><li>'cant'</li><li>'car'</li><li>'card'</li><li>'care'</li><li>'carlo'</li><li>'case'</li><li>'cash'</li><li>'cashbal'</li><li>'catch'</li><li>'caus'</li><li>'celebr'</li><li>'cell'</li><li>'centr'</li><li>'chanc'</li><li>'chang'</li><li>'charg'</li><li>'chat'</li><li>'cheap'</li><li>'cheaper'</li><li>'check'</li><li>'cheer'</li><li>'chennai'</li><li>'chikku'</li><li>'childish'</li><li>'children'</li><li>'choic'</li><li>'choos'</li><li>'christma'</li><li>'claim'</li><li>'class'</li><li>'clean'</li><li>'clear'</li><li>'close'</li><li>'club'</li><li>'code'</li><li>'coffe'</li><li>'cold'</li><li>'colleagu'</li><li>'collect'</li><li>'colleg'</li><li>'colour'</li><li>'come'</li><li>'comin'</li><li>'comp'</li><li>'compani'</li><li>'competit'</li><li>'complet'</li><li>'complimentari'</li><li>'comput'</li><li>'condit'</li><li>'confirm'</li><li>'congrat'</li><li>'congratul'</li><li>'connect'</li><li>'contact'</li><li>'content'</li><li>'contract'</li><li>'cook'</li><li>'cool'</li><li>'copi'</li><li>'correct'</li><li>'cos'</li><li>'cost'</li><li>'cost£pm'</li><li>'costa'</li><li>⋯</li><li>'subscrib'</li><li>'success'</li><li>'suck'</li><li>'suit'</li><li>'summer'</li><li>'sun'</li><li>'sunday'</li><li>'sunshin'</li><li>'sup'</li><li>'support'</li><li>'suppos'</li><li>'sure'</li><li>'surf'</li><li>'surpris'</li><li>'sweet'</li><li>'swing'</li><li>'system'</li><li>'take'</li><li>'talk'</li><li>'tampa'</li><li>'tariff'</li><li>'tcs'</li><li>'tea'</li><li>'teach'</li><li>'tear'</li><li>'teas'</li><li>'tel'</li><li>'tell'</li><li>'ten'</li><li>'tenerif'</li><li>'term'</li><li>'test'</li><li>'text'</li><li>'thank'</li><li>'thanx'</li><li>'that'</li><li>'thing'</li><li>'think'</li><li>'thinkin'</li><li>'thk'</li><li>'tho'</li><li>'though'</li><li>'thought'</li><li>'throw'</li><li>'thru'</li><li>'tht'</li><li>'thur'</li><li>'tick'</li><li>'ticket'</li><li>'til'</li><li>'till'</li><li>'time'</li><li>'tire'</li><li>'titl'</li><li>'tmr'</li><li>'toclaim'</li><li>'today'</li><li>'togeth'</li><li>'told'</li><li>'tomo'</li><li>'tomorrow'</li><li>'tone'</li><li>'tonight'</li><li>'tonit'</li><li>'took'</li><li>'top'</li><li>'torch'</li><li>'tot'</li><li>'total'</li><li>'touch'</li><li>'tough'</li><li>'tour'</li><li>'toward'</li><li>'town'</li><li>'track'</li><li>'train'</li><li>'transact'</li><li>'travel'</li><li>'treat'</li><li>'tri'</li><li>'trip'</li><li>'troubl'</li><li>'true'</li><li>'trust'</li><li>'truth'</li><li>'tscs'</li><li>'ttyl'</li><li>'tuesday'</li><li>'turn'</li><li>'twice'</li><li>'two'</li><li>'txt'</li><li>'txting'</li><li>'txts'</li><li>'type'</li><li>'ufind'</li><li>'ugh'</li><li>'ull'</li><li>'uncl'</li><li>'understand'</li><li>'unless'</li><li>'unlimit'</li><li>'unredeem'</li><li>'unsub'</li><li>'unsubscrib'</li><li>'updat'</li><li>'ure'</li><li>'urgent'</li><li>'urself'</li><li>'use'</li><li>'user'</li><li>'usf'</li><li>'usual'</li><li>'uve'</li><li>'valentin'</li><li>'valid'</li><li>'valu'</li><li>'via'</li><li>'video'</li><li>'vikki'</li><li>'visit'</li><li>'vodafon'</li><li>'voic'</li><li>'vomit'</li><li>'voucher'</li><li>'wait'</li><li>'wake'</li><li>'walk'</li><li>'wan'</li><li>'wana'</li><li>'wanna'</li><li>'want'</li><li>'wap'</li><li>'warm'</li><li>'wast'</li><li>'wat'</li><li>'watch'</li><li>'water'</li><li>'way'</li><li>'weak'</li><li>'wear'</li><li>'weather'</li><li>'wed'</li><li>'wednesday'</li><li>'weed'</li><li>'week'</li><li>'weekend'</li><li>'welcom'</li><li>'well'</li><li>'wen'</li><li>'went'</li><li>'what'</li><li>'whatev'</li><li>'whenev'</li><li>'whole'</li><li>'wid'</li><li>'wif'</li><li>'wife'</li><li>'wil'</li><li>'will'</li><li>'win'</li><li>'wine'</li><li>'winner'</li><li>'wish'</li><li>'wit'</li><li>'within'</li><li>'without'</li><li>'wiv'</li><li>'wkli'</li><li>'wks'</li><li>'wnt'</li><li>'woke'</li><li>'won'</li><li>'wonder'</li><li>'wont'</li><li>'word'</li><li>'work'</li><li>'workin'</li><li>'world'</li><li>'worri'</li><li>'wors'</li><li>'worth'</li><li>'wot'</li><li>'wow'</li><li>'write'</li><li>'wrong'</li><li>'wwq'</li><li>'wwwgetzedcouk'</li><li>'xmas'</li><li>'xxx'</li><li>'yahoo'</li><li>'yar'</li><li>'yeah'</li><li>'year'</li><li>'yep'</li><li>'yes'</li><li>'yesterday'</li><li>'yet'</li><li>'yoga'</li><li>'yup'</li></ol>\n"
            ]
          },
          "metadata": {
            "tags": []
          }
        }
      ]
    },
    {
      "cell_type": "code",
      "metadata": {
        "colab": {
          "base_uri": "https://localhost:8080/"
        },
        "id": "wtJdVLkhuzlG",
        "outputId": "a3161fd8-f01c-46d2-f833-41f5607f613f"
      },
      "source": [
        "# save frequently-appearing terms to a character vector\n",
        "sms_freq_words <- findFreqTerms(dados_dtm_train, 5)\n",
        "str(sms_freq_words)"
      ],
      "execution_count": 30,
      "outputs": [
        {
          "output_type": "stream",
          "text": [
            " chr [1:1139] \"£wk\" \"€˜m\" \"€˜s\" \"abiola\" \"abl\" \"abt\" \"accept\" \"access\" ...\n"
          ],
          "name": "stdout"
        }
      ]
    },
    {
      "cell_type": "markdown",
      "metadata": {
        "id": "js_NLDvgvVNS"
      },
      "source": [
        "# Criando subsets apenas com palavras mais frequentes"
      ]
    },
    {
      "cell_type": "code",
      "metadata": {
        "id": "RJ6gUZASvDiy"
      },
      "source": [
        "\n",
        "sms_dtm_freq_train <- dados_dtm_train[ , sms_freq_words]\n",
        "sms_dtm_freq_test <- dados_dtm_test[ , sms_freq_words]"
      ],
      "execution_count": 31,
      "outputs": []
    },
    {
      "cell_type": "code",
      "metadata": {
        "id": "MXRUXIXcvXJv"
      },
      "source": [
        "# Converte para fator\n",
        "convert_counts <- function(x) {\n",
        "  print(x)\n",
        "  x <- ifelse(x > 0, \"Yes\", \"No\")\n",
        "}"
      ],
      "execution_count": 32,
      "outputs": []
    },
    {
      "cell_type": "code",
      "metadata": {
        "colab": {
          "base_uri": "https://localhost:8080/"
        },
        "id": "wLC8zJLHvu3I",
        "outputId": "b40f6fbb-7c22-456f-c9a8-ece4affb9652"
      },
      "source": [
        "# apply() converte counts para colunas de dados de treino e de teste\n",
        "sms_train <- apply(sms_dtm_freq_train, MARGIN = 2, convert_counts)\n",
        "sms_test  <- apply(sms_dtm_freq_test, MARGIN = 2, convert_counts)\n"
      ],
      "execution_count": 33,
      "outputs": [
        {
          "output_type": "stream",
          "text": [
            "IOPub data rate exceeded.\n",
            "The notebook server will temporarily stop sending output\n",
            "to the client in order to avoid crashing it.\n",
            "To change this limit, set the config variable\n",
            "`--NotebookApp.iopub_data_rate_limit`.\n",
            "\n",
            "Current values:\n",
            "NotebookApp.iopub_data_rate_limit=1000000.0 (bytes/sec)\n",
            "NotebookApp.rate_limit_window=3.0 (secs)\n",
            "\n"
          ],
          "name": "stderr"
        }
      ]
    },
    {
      "cell_type": "markdown",
      "metadata": {
        "id": "jDVd4YK_1ytF"
      },
      "source": [
        "# Treinando o modelo\n",
        "?naiveBayes"
      ]
    },
    {
      "cell_type": "code",
      "metadata": {
        "id": "nQ0QsT1Tv3nU"
      },
      "source": [
        "nb_classifier <- naiveBayes(sms_train, dados_train_labels)"
      ],
      "execution_count": 34,
      "outputs": []
    },
    {
      "cell_type": "markdown",
      "metadata": {
        "id": "3TBVJNf419Og"
      },
      "source": [
        "# Avaliando o modelo"
      ]
    },
    {
      "cell_type": "code",
      "metadata": {
        "id": "PzOHDuz214X7"
      },
      "source": [
        "sms_test_pred <- predict(nb_classifier, sms_test)\n"
      ],
      "execution_count": 35,
      "outputs": []
    },
    {
      "cell_type": "markdown",
      "metadata": {
        "id": "HdD-lods2PY3"
      },
      "source": [
        "Confusion Matrix"
      ]
    },
    {
      "cell_type": "code",
      "metadata": {
        "colab": {
          "base_uri": "https://localhost:8080/"
        },
        "id": "b5EPEjWp2Bym",
        "outputId": "d0a1281b-275c-48d7-bb66-fc247e053800"
      },
      "source": [
        "CrossTable(sms_test_pred,\n",
        "           dados_test_labels,\n",
        "           prop.chisq = FALSE,\n",
        "           prop.t = FALSE,\n",
        "           prop.r = FALSE,\n",
        "           dnn = c('Previsto', 'Observado'))"
      ],
      "execution_count": 36,
      "outputs": [
        {
          "output_type": "stream",
          "text": [
            "\n",
            " \n",
            "   Cell Contents\n",
            "|-------------------------|\n",
            "|                       N |\n",
            "|           N / Col Total |\n",
            "|-------------------------|\n",
            "\n",
            " \n",
            "Total Observations in Table:  1390 \n",
            "\n",
            " \n",
            "             | Observado \n",
            "    Previsto |       ham |      spam | Row Total | \n",
            "-------------|-----------|-----------|-----------|\n",
            "         ham |      1201 |        30 |      1231 | \n",
            "             |     0.995 |     0.164 |           | \n",
            "-------------|-----------|-----------|-----------|\n",
            "        spam |         6 |       153 |       159 | \n",
            "             |     0.005 |     0.836 |           | \n",
            "-------------|-----------|-----------|-----------|\n",
            "Column Total |      1207 |       183 |      1390 | \n",
            "             |     0.868 |     0.132 |           | \n",
            "-------------|-----------|-----------|-----------|\n",
            "\n",
            " \n"
          ],
          "name": "stdout"
        }
      ]
    },
    {
      "cell_type": "markdown",
      "metadata": {
        "id": "_sLSSm-R22zO"
      },
      "source": [
        "# Melhorando a performance do modelo aplicando suavização laplace"
      ]
    },
    {
      "cell_type": "code",
      "metadata": {
        "id": "ZQ8Pxiw12ZXF"
      },
      "source": [
        "nb_classifier_v2 <- naiveBayes(sms_train, dados_train_labels, laplace = 1)"
      ],
      "execution_count": 37,
      "outputs": []
    },
    {
      "cell_type": "code",
      "metadata": {
        "id": "oeWkS1Rv27Kh"
      },
      "source": [
        "sms_test_pred2 <- predict(nb_classifier_v2, sms_test)"
      ],
      "execution_count": 38,
      "outputs": []
    },
    {
      "cell_type": "code",
      "metadata": {
        "colab": {
          "base_uri": "https://localhost:8080/"
        },
        "id": "CS-OCVBR2_Em",
        "outputId": "d6c2ea84-aea2-4022-b669-23c238f84e0e"
      },
      "source": [
        "# Confusion Matrix\n",
        "CrossTable(sms_test_pred2,\n",
        "           dados_test_labels,\n",
        "           prop.chisq = FALSE,\n",
        "           prop.t = FALSE,\n",
        "           prop.r = FALSE,\n",
        "           dnn = c('Previsto', 'Observado'))"
      ],
      "execution_count": 39,
      "outputs": [
        {
          "output_type": "stream",
          "text": [
            "\n",
            " \n",
            "   Cell Contents\n",
            "|-------------------------|\n",
            "|                       N |\n",
            "|           N / Col Total |\n",
            "|-------------------------|\n",
            "\n",
            " \n",
            "Total Observations in Table:  1390 \n",
            "\n",
            " \n",
            "             | Observado \n",
            "    Previsto |       ham |      spam | Row Total | \n",
            "-------------|-----------|-----------|-----------|\n",
            "         ham |      1189 |        16 |      1205 | \n",
            "             |     0.985 |     0.087 |           | \n",
            "-------------|-----------|-----------|-----------|\n",
            "        spam |        18 |       167 |       185 | \n",
            "             |     0.015 |     0.913 |           | \n",
            "-------------|-----------|-----------|-----------|\n",
            "Column Total |      1207 |       183 |      1390 | \n",
            "             |     0.868 |     0.132 |           | \n",
            "-------------|-----------|-----------|-----------|\n",
            "\n",
            " \n"
          ],
          "name": "stdout"
        }
      ]
    },
    {
      "cell_type": "code",
      "metadata": {
        "id": "pQ9IDX--3J-9"
      },
      "source": [
        ""
      ],
      "execution_count": null,
      "outputs": []
    }
  ]
}